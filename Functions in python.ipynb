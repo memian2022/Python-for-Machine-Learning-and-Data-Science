{
 "cells": [
  {
   "cell_type": "markdown",
   "id": "fde138e9-8e45-4715-9257-405328ed2867",
   "metadata": {},
   "source": [
    "# Functions in Pyton"
   ]
  },
  {
   "cell_type": "code",
   "execution_count": 114,
   "id": "bbba930a-cbd8-4ed1-b371-b0ecdd3e8624",
   "metadata": {},
   "outputs": [
    {
     "name": "stdout",
     "output_type": "stream",
     "text": [
      "[0, 1, 4, 9, 16]\n",
      "[0, 2]\n"
     ]
    }
   ],
   "source": [
    "def mul_fun(x=0):\n",
    "    '''\n",
    "    this is a simple function\n",
    "    '''\n",
    "    for y in range(0,5):\n",
    "        z=x+y\n",
    "        print('no. is {}'. format(x+y))\n",
    "        li=[]\n",
    "        li.append(z)\n",
    "print([c**2 for c in range(0,5)])\n",
    "print(li)"
   ]
  },
  {
   "cell_type": "code",
   "execution_count": 116,
   "id": "d7e66bee-cd5d-4c2f-bde0-47d346be23a0",
   "metadata": {},
   "outputs": [
    {
     "name": "stdout",
     "output_type": "stream",
     "text": [
      "no. is 0\n",
      "no. is 1\n",
      "no. is 2\n",
      "no. is 3\n",
      "no. is 4\n"
     ]
    }
   ],
   "source": [
    "mul_fun"
   ]
  },
  {
   "cell_type": "code",
   "execution_count": 118,
   "id": "e362c8ed-2888-4d08-a9e5-f5c38d157a85",
   "metadata": {},
   "outputs": [],
   "source": [
    "def sq(x):\n",
    "    return x**2"
   ]
  },
  {
   "cell_type": "code",
   "execution_count": 120,
   "id": "552ec246-0f00-4e8d-9d65-6927bbc4265c",
   "metadata": {},
   "outputs": [],
   "source": [
    "result=sq(4)"
   ]
  },
  {
   "cell_type": "code",
   "execution_count": 122,
   "id": "c2bf03ee-9daa-42ad-8d8f-5c76787904d8",
   "metadata": {},
   "outputs": [
    {
     "data": {
      "text/plain": [
       "16"
      ]
     },
     "execution_count": 122,
     "metadata": {},
     "output_type": "execute_result"
    }
   ],
   "source": [
    "result"
   ]
  },
  {
   "cell_type": "code",
   "execution_count": 124,
   "id": "627ee3d1-4ffb-4fa9-86dc-79c32df22e4e",
   "metadata": {},
   "outputs": [
    {
     "data": {
      "text/plain": [
       "<function __main__.<lambda>(car)>"
      ]
     },
     "execution_count": 124,
     "metadata": {},
     "output_type": "execute_result"
    }
   ],
   "source": [
    "lambda car: car*10"
   ]
  },
  {
   "cell_type": "raw",
   "id": "442a25e2-7e75-4b65-8c98-ce03044fb184",
   "metadata": {},
   "source": []
  },
  {
   "cell_type": "code",
   "execution_count": 135,
   "id": "a31b57e2-3539-4c6b-843f-d45d1de76093",
   "metadata": {},
   "outputs": [],
   "source": [
    "st='tHis is JUPYTER noTebOok'"
   ]
  },
  {
   "cell_type": "code",
   "execution_count": 137,
   "id": "a732a426-731a-4594-8e78-bd5f091a0f0b",
   "metadata": {},
   "outputs": [
    {
     "data": {
      "text/plain": [
       "'this is jupyter notebook'"
      ]
     },
     "execution_count": 137,
     "metadata": {},
     "output_type": "execute_result"
    }
   ],
   "source": [
    "st.lower()"
   ]
  },
  {
   "cell_type": "code",
   "execution_count": 139,
   "id": "760e8ef3-5a56-47d5-8bb6-2c6917add2b9",
   "metadata": {},
   "outputs": [
    {
     "data": {
      "text/plain": [
       "'THIS IS JUPYTER NOTEBOOK'"
      ]
     },
     "execution_count": 139,
     "metadata": {},
     "output_type": "execute_result"
    }
   ],
   "source": [
    "st.upper()"
   ]
  },
  {
   "cell_type": "code",
   "execution_count": 147,
   "id": "ca50cdb8-9c7a-4a4d-a40a-da1055ca856b",
   "metadata": {},
   "outputs": [],
   "source": [
    "lis=st.split()"
   ]
  },
  {
   "cell_type": "code",
   "execution_count": 151,
   "id": "eea9d920-38c8-4ab5-b763-fa1d1364deb4",
   "metadata": {},
   "outputs": [
    {
     "name": "stdout",
     "output_type": "stream",
     "text": [
      "JUPYTER\n"
     ]
    }
   ],
   "source": [
    "print(lis[2])"
   ]
  },
  {
   "cell_type": "code",
   "execution_count": 167,
   "id": "b3e049a2-8edb-4f22-8154-4d2e7740ee02",
   "metadata": {},
   "outputs": [],
   "source": [
    "tweet= 'trending #jup #render done #okay'"
   ]
  },
  {
   "cell_type": "code",
   "execution_count": 174,
   "id": "3deefd79-3d59-432b-a4c6-0f1750a21c7a",
   "metadata": {},
   "outputs": [
    {
     "data": {
      "text/plain": [
       "'okay'"
      ]
     },
     "execution_count": 174,
     "metadata": {},
     "output_type": "execute_result"
    }
   ],
   "source": [
    "tweet.split('#')[-1]"
   ]
  },
  {
   "cell_type": "code",
   "execution_count": null,
   "id": "d00f0097-d2a7-4f93-a0bc-9225a9feb67b",
   "metadata": {},
   "outputs": [],
   "source": []
  }
 ],
 "metadata": {
  "kernelspec": {
   "display_name": "Python 3 (ipykernel)",
   "language": "python",
   "name": "python3"
  },
  "language_info": {
   "codemirror_mode": {
    "name": "ipython",
    "version": 3
   },
   "file_extension": ".py",
   "mimetype": "text/x-python",
   "name": "python",
   "nbconvert_exporter": "python",
   "pygments_lexer": "ipython3",
   "version": "3.12.7"
  }
 },
 "nbformat": 4,
 "nbformat_minor": 5
}
