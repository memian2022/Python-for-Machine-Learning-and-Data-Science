{
 "cells": [
  {
   "cell_type": "markdown",
   "id": "628ad0be-836d-4992-a6bf-93bdf6bef02f",
   "metadata": {},
   "source": [
    "   # NumPy "
   ]
  },
  {
   "cell_type": "markdown",
   "id": "85eec104-6fec-45d7-ae62-937980dc45ac",
   "metadata": {},
   "source": [
    "* functions in numpy\n",
    "\n",
    "\n",
    "  "
   ]
  },
  {
   "cell_type": "code",
   "execution_count": 8,
   "id": "3e8368d7-2097-4893-a52a-54e838591aaa",
   "metadata": {},
   "outputs": [],
   "source": [
    "import numpy as np"
   ]
  },
  {
   "cell_type": "code",
   "execution_count": 10,
   "id": "00a67ba3-58c5-4800-a2d3-2671b8e7ff77",
   "metadata": {},
   "outputs": [],
   "source": [
    "mylist=[2,4,6,8]"
   ]
  },
  {
   "cell_type": "code",
   "execution_count": 12,
   "id": "c60ddb2d-369c-4553-82cc-4cf26e867990",
   "metadata": {},
   "outputs": [
    {
     "data": {
      "text/plain": [
       "[2, 4, 6, 8]"
      ]
     },
     "execution_count": 12,
     "metadata": {},
     "output_type": "execute_result"
    }
   ],
   "source": [
    "mylist"
   ]
  },
  {
   "cell_type": "code",
   "execution_count": 14,
   "id": "41491597-6ff0-4c9b-bddf-83b807c5868b",
   "metadata": {},
   "outputs": [
    {
     "data": {
      "text/plain": [
       "list"
      ]
     },
     "execution_count": 14,
     "metadata": {},
     "output_type": "execute_result"
    }
   ],
   "source": [
    "type(mylist)"
   ]
  },
  {
   "cell_type": "code",
   "execution_count": 16,
   "id": "4e0c9753-bf92-4087-a7ed-78322d129e21",
   "metadata": {},
   "outputs": [],
   "source": [
    "myarray= np.array(mylist) #-- Transformation of simple list into numpy array --#"
   ]
  },
  {
   "cell_type": "code",
   "execution_count": 18,
   "id": "f5448b48-7cba-4dae-85d1-8e32789cae51",
   "metadata": {},
   "outputs": [
    {
     "data": {
      "text/plain": [
       "[2, 4, 6, 8]"
      ]
     },
     "execution_count": 18,
     "metadata": {},
     "output_type": "execute_result"
    }
   ],
   "source": [
    "mylist"
   ]
  },
  {
   "cell_type": "code",
   "execution_count": 20,
   "id": "21f95d06-ae62-4bb2-8e72-7c087e29b99c",
   "metadata": {},
   "outputs": [
    {
     "data": {
      "text/plain": [
       "numpy.ndarray"
      ]
     },
     "execution_count": 20,
     "metadata": {},
     "output_type": "execute_result"
    }
   ],
   "source": [
    "type(myarray)"
   ]
  },
  {
   "cell_type": "code",
   "execution_count": 22,
   "id": "5b586f30-e735-409c-b89e-581625b023fc",
   "metadata": {},
   "outputs": [],
   "source": [
    "matrix=[[1,2,3],[4,5,6],[7,8,9]]"
   ]
  },
  {
   "cell_type": "code",
   "execution_count": 24,
   "id": "ea89a162-ec6c-4891-aea2-56699ad9ce0f",
   "metadata": {},
   "outputs": [
    {
     "data": {
      "text/plain": [
       "[[1, 2, 3], [4, 5, 6], [7, 8, 9]]"
      ]
     },
     "execution_count": 24,
     "metadata": {},
     "output_type": "execute_result"
    }
   ],
   "source": [
    "matrix"
   ]
  },
  {
   "cell_type": "code",
   "execution_count": 26,
   "id": "01d5ee7f-3633-4986-af8c-e3694443660a",
   "metadata": {},
   "outputs": [],
   "source": [
    "mymatrix=np.array(matrix) "
   ]
  },
  {
   "cell_type": "code",
   "execution_count": 27,
   "id": "eaad2bc6-e4b9-4ba9-a4ef-b7ee93741bf8",
   "metadata": {},
   "outputs": [
    {
     "data": {
      "text/plain": [
       "array([[1, 2, 3],\n",
       "       [4, 5, 6],\n",
       "       [7, 8, 9]])"
      ]
     },
     "execution_count": 27,
     "metadata": {},
     "output_type": "execute_result"
    }
   ],
   "source": [
    "mymatrix"
   ]
  },
  {
   "cell_type": "code",
   "execution_count": 28,
   "id": "7570b5f6-3dfd-4734-ab49-e97fef35e782",
   "metadata": {},
   "outputs": [
    {
     "data": {
      "text/plain": [
       "numpy.ndarray"
      ]
     },
     "execution_count": 28,
     "metadata": {},
     "output_type": "execute_result"
    }
   ],
   "source": [
    "type(mymatrix)"
   ]
  },
  {
   "cell_type": "code",
   "execution_count": 29,
   "id": "17a96079-03f2-4098-8e84-51e57b1937f6",
   "metadata": {},
   "outputs": [
    {
     "data": {
      "text/plain": [
       "6"
      ]
     },
     "execution_count": 29,
     "metadata": {},
     "output_type": "execute_result"
    }
   ],
   "source": [
    "mymatrix[1][2]"
   ]
  },
  {
   "cell_type": "code",
   "execution_count": 30,
   "id": "2e23cc8b-a93e-4895-8d38-dc3bfdf39bbf",
   "metadata": {},
   "outputs": [
    {
     "data": {
      "text/plain": [
       "6"
      ]
     },
     "execution_count": 30,
     "metadata": {},
     "output_type": "execute_result"
    }
   ],
   "source": [
    "matrix[1][2]"
   ]
  },
  {
   "cell_type": "code",
   "execution_count": 31,
   "id": "f123fa70-f4b6-495a-9efe-7f9289e96cb5",
   "metadata": {},
   "outputs": [
    {
     "data": {
      "text/plain": [
       "array([ 0,  4,  8, 12])"
      ]
     },
     "execution_count": 31,
     "metadata": {},
     "output_type": "execute_result"
    }
   ],
   "source": [
    "np.arange(0,15,4) #--  defining a numpy array directly --#"
   ]
  },
  {
   "cell_type": "code",
   "execution_count": 32,
   "id": "1a751e7f-cccc-4901-bfba-9f9da89e1bd2",
   "metadata": {},
   "outputs": [
    {
     "data": {
      "text/plain": [
       "array([[0, 0, 0, 0, 0],\n",
       "       [0, 0, 0, 0, 0],\n",
       "       [0, 0, 0, 0, 0],\n",
       "       [0, 0, 0, 0, 0],\n",
       "       [0, 0, 0, 0, 0]])"
      ]
     },
     "execution_count": 32,
     "metadata": {},
     "output_type": "execute_result"
    }
   ],
   "source": [
    "np.zeros((5,5), dtype=int)"
   ]
  },
  {
   "cell_type": "code",
   "execution_count": 33,
   "id": "4ef7a106-6e90-4a77-988b-00075ecf71de",
   "metadata": {},
   "outputs": [
    {
     "data": {
      "text/plain": [
       "array([[1, 1, 1],\n",
       "       [1, 1, 1]])"
      ]
     },
     "execution_count": 33,
     "metadata": {},
     "output_type": "execute_result"
    }
   ],
   "source": [
    "np.ones((2,3), dtype=int)"
   ]
  },
  {
   "cell_type": "code",
   "execution_count": 34,
   "id": "3710fe15-f7d4-4919-8d8e-857bbc2eb7d4",
   "metadata": {},
   "outputs": [
    {
     "data": {
      "text/plain": [
       "array([ 0. ,  7.5, 15. ])"
      ]
     },
     "execution_count": 34,
     "metadata": {},
     "output_type": "execute_result"
    }
   ],
   "source": [
    "np.linspace(0,15,3) #--  to linearly space the list items --#"
   ]
  },
  {
   "cell_type": "code",
   "execution_count": 35,
   "id": "66c09d53-3d0a-455a-b6ff-3a79689f307d",
   "metadata": {},
   "outputs": [
    {
     "data": {
      "text/plain": [
       "array([[1, 0, 0, 0],\n",
       "       [0, 1, 0, 0],\n",
       "       [0, 0, 1, 0],\n",
       "       [0, 0, 0, 1]])"
      ]
     },
     "execution_count": 35,
     "metadata": {},
     "output_type": "execute_result"
    }
   ],
   "source": [
    "np.eye(4, dtype=int) # numpy identity matrix function .eye() #"
   ]
  },
  {
   "cell_type": "code",
   "execution_count": 36,
   "id": "58592345-0884-4fcf-92af-9bf689373e6c",
   "metadata": {},
   "outputs": [
    {
     "data": {
      "text/plain": [
       "array([[0.24801924, 0.11864614],\n",
       "       [0.30835968, 0.94435666],\n",
       "       [0.78196738, 0.70273052],\n",
       "       [0.0767214 , 0.16736055],\n",
       "       [0.39517903, 0.40269814]])"
      ]
     },
     "execution_count": 36,
     "metadata": {},
     "output_type": "execute_result"
    }
   ],
   "source": [
    "np.random.rand(5,2 )"
   ]
  },
  {
   "cell_type": "code",
   "execution_count": 37,
   "id": "48e93a47-985b-4780-9f5e-ed8c0ea42ffa",
   "metadata": {},
   "outputs": [
    {
     "data": {
      "text/plain": [
       "array([[ 2.36935108, -0.30554994],\n",
       "       [ 0.07518616,  0.1682361 ],\n",
       "       [-0.69212315,  1.30004578],\n",
       "       [ 0.46362915, -0.91517944],\n",
       "       [-0.68688023,  0.0258184 ]])"
      ]
     },
     "execution_count": 37,
     "metadata": {},
     "output_type": "execute_result"
    }
   ],
   "source": [
    "np.random.randn(5,2 )"
   ]
  },
  {
   "cell_type": "code",
   "execution_count": 38,
   "id": "28980acb-84c8-431e-b0db-bce3cd6fe92d",
   "metadata": {},
   "outputs": [
    {
     "data": {
      "text/plain": [
       "array([48, 57, 28, 10,  2, 83, 49, 74, 34, 71])"
      ]
     },
     "execution_count": 38,
     "metadata": {},
     "output_type": "execute_result"
    }
   ],
   "source": [
    "np.random.randint(0,101,10) # -- third argument is the no. of random items you want --#"
   ]
  },
  {
   "cell_type": "code",
   "execution_count": 39,
   "id": "74fd922f-73c7-4574-bc9a-005cfabeca9d",
   "metadata": {},
   "outputs": [
    {
     "data": {
      "text/plain": [
       "array([[ 25, 169,  72],\n",
       "       [ 38,  78, 116]])"
      ]
     },
     "execution_count": 39,
     "metadata": {},
     "output_type": "execute_result"
    }
   ],
   "source": [
    "np.random.randint(1,300,(2,3))"
   ]
  },
  {
   "cell_type": "code",
   "execution_count": 40,
   "id": "2bb5487d-51c1-4696-a944-8c0a9042caa9",
   "metadata": {},
   "outputs": [
    {
     "data": {
      "text/plain": [
       "array([[[0.51639863, 0.57066759, 0.02847423],\n",
       "        [0.17152166, 0.68527698, 0.83389686],\n",
       "        [0.30696622, 0.89361308, 0.72154386],\n",
       "        [0.18993895, 0.55422759, 0.35213195]],\n",
       "\n",
       "       [[0.1818924 , 0.78560176, 0.96548322],\n",
       "        [0.23235366, 0.08356143, 0.60354842],\n",
       "        [0.72899276, 0.27623883, 0.68530633],\n",
       "        [0.51786747, 0.04848454, 0.13786924]]])"
      ]
     },
     "execution_count": 40,
     "metadata": {},
     "output_type": "execute_result"
    }
   ],
   "source": [
    "np.random.seed(101)\n",
    "np.random.rand(2,4,3)"
   ]
  },
  {
   "cell_type": "code",
   "execution_count": 41,
   "id": "5e8d4b97-a57f-4bfb-8945-dee202019ef0",
   "metadata": {},
   "outputs": [
    {
     "data": {
      "text/plain": [
       "array([[0.37454012, 0.95071431, 0.73199394],\n",
       "       [0.59865848, 0.15601864, 0.15599452]])"
      ]
     },
     "execution_count": 41,
     "metadata": {},
     "output_type": "execute_result"
    }
   ],
   "source": [
    "np.random.seed(42)           # seting a seed value with seed function give the same value each time in random function\n",
    "np.random.rand(2,3)\n"
   ]
  },
  {
   "cell_type": "code",
   "execution_count": 42,
   "id": "2f8ad62a-d109-4686-b5d7-ce07a4de74c1",
   "metadata": {},
   "outputs": [],
   "source": [
    "arr=np.arange(0,30)"
   ]
  },
  {
   "cell_type": "code",
   "execution_count": 43,
   "id": "5f9369d7-b153-4e54-b73e-eac7c4862463",
   "metadata": {},
   "outputs": [
    {
     "data": {
      "text/plain": [
       "array([ 0,  1,  2,  3,  4,  5,  6,  7,  8,  9, 10, 11, 12, 13, 14, 15, 16,\n",
       "       17, 18, 19, 20, 21, 22, 23, 24, 25, 26, 27, 28, 29])"
      ]
     },
     "execution_count": 43,
     "metadata": {},
     "output_type": "execute_result"
    }
   ],
   "source": [
    "arr"
   ]
  },
  {
   "cell_type": "code",
   "execution_count": 44,
   "id": "ac0c2f74-62b3-491b-a115-412a7125f2d0",
   "metadata": {},
   "outputs": [
    {
     "data": {
      "text/plain": [
       "array([[ 0,  1,  2,  3,  4],\n",
       "       [ 5,  6,  7,  8,  9],\n",
       "       [10, 11, 12, 13, 14],\n",
       "       [15, 16, 17, 18, 19],\n",
       "       [20, 21, 22, 23, 24],\n",
       "       [25, 26, 27, 28, 29]])"
      ]
     },
     "execution_count": 44,
     "metadata": {},
     "output_type": "execute_result"
    }
   ],
   "source": [
    "arr.reshape(6,5)  # reshape funciton shapes the array in a matrix like form of given order"
   ]
  },
  {
   "cell_type": "code",
   "execution_count": 45,
   "id": "727cd47f-88c3-4f3a-ae35-6be9fcb45179",
   "metadata": {},
   "outputs": [],
   "source": [
    "ranarr= np.random.randint(0,101,10) "
   ]
  },
  {
   "cell_type": "code",
   "execution_count": 46,
   "id": "21e0ed1e-4d0f-412e-bcd1-49be24361e26",
   "metadata": {},
   "outputs": [
    {
     "data": {
      "text/plain": [
       "array([74, 74, 87, 99, 23,  2, 21, 52,  1, 87])"
      ]
     },
     "execution_count": 46,
     "metadata": {},
     "output_type": "execute_result"
    }
   ],
   "source": [
    "ranarr"
   ]
  },
  {
   "cell_type": "code",
   "execution_count": 47,
   "id": "267f8f3e-3f64-4da0-9383-357385dbe301",
   "metadata": {},
   "outputs": [
    {
     "data": {
      "text/plain": [
       "99"
      ]
     },
     "execution_count": 47,
     "metadata": {},
     "output_type": "execute_result"
    }
   ],
   "source": [
    "ranarr.max()"
   ]
  },
  {
   "cell_type": "code",
   "execution_count": 48,
   "id": "bbcc383f-1c90-4db8-9add-dd7eb109de7a",
   "metadata": {},
   "outputs": [
    {
     "data": {
      "text/plain": [
       "3"
      ]
     },
     "execution_count": 48,
     "metadata": {},
     "output_type": "execute_result"
    }
   ],
   "source": [
    "ranarr.argmax()"
   ]
  },
  {
   "cell_type": "code",
   "execution_count": 49,
   "id": "c7499c5f-0568-4806-b437-50fb8f5b0303",
   "metadata": {},
   "outputs": [
    {
     "data": {
      "text/plain": [
       "1"
      ]
     },
     "execution_count": 49,
     "metadata": {},
     "output_type": "execute_result"
    }
   ],
   "source": [
    "ranarr.min()"
   ]
  },
  {
   "cell_type": "code",
   "execution_count": 50,
   "id": "d1d5adbd-4573-44f5-a642-8044f96c95ff",
   "metadata": {},
   "outputs": [
    {
     "data": {
      "text/plain": [
       "8"
      ]
     },
     "execution_count": 50,
     "metadata": {},
     "output_type": "execute_result"
    }
   ],
   "source": [
    "ranarr.argmin()"
   ]
  },
  {
   "cell_type": "code",
   "execution_count": 99,
   "id": "aa71a3ba-f12b-49c8-a760-66e84de02282",
   "metadata": {},
   "outputs": [
    {
     "data": {
      "text/plain": [
       "dtype('int32')"
      ]
     },
     "execution_count": 99,
     "metadata": {},
     "output_type": "execute_result"
    }
   ],
   "source": [
    "ranarr.dtype"
   ]
  },
  {
   "cell_type": "code",
   "execution_count": 101,
   "id": "6cd6cf4b-b6e2-497c-8d11-15f818eaacea",
   "metadata": {},
   "outputs": [
    {
     "data": {
      "text/plain": [
       "(30,)"
      ]
     },
     "execution_count": 101,
     "metadata": {},
     "output_type": "execute_result"
    }
   ],
   "source": [
    "arr.shape"
   ]
  },
  {
   "cell_type": "code",
   "execution_count": 103,
   "id": "1c4e571a-dc92-4c63-a35d-47390a30b78d",
   "metadata": {},
   "outputs": [
    {
     "data": {
      "text/plain": [
       "array([ 0,  1,  2,  3,  4,  5,  6,  7,  8,  9, 10, 11, 12, 13, 14, 15, 16,\n",
       "       17, 18, 19, 20, 21, 22, 23, 24, 25, 26, 27, 28, 29])"
      ]
     },
     "execution_count": 103,
     "metadata": {},
     "output_type": "execute_result"
    }
   ],
   "source": [
    "arr\n"
   ]
  },
  {
   "cell_type": "code",
   "execution_count": 107,
   "id": "0b66ebc8-7ef6-4288-b93a-14b0fde59bdf",
   "metadata": {},
   "outputs": [],
   "source": [
    "arrrn=arr.reshape(1,30)"
   ]
  },
  {
   "cell_type": "code",
   "execution_count": 110,
   "id": "4a075016-ef48-430f-888c-4764ef5dc921",
   "metadata": {},
   "outputs": [
    {
     "data": {
      "text/plain": [
       "array([[ 0,  1,  2,  3,  4,  5,  6,  7,  8,  9, 10, 11, 12, 13, 14, 15,\n",
       "        16, 17, 18, 19, 20, 21, 22, 23, 24, 25, 26, 27, 28, 29]])"
      ]
     },
     "execution_count": 110,
     "metadata": {},
     "output_type": "execute_result"
    }
   ],
   "source": [
    "arrrn"
   ]
  },
  {
   "cell_type": "code",
   "execution_count": 112,
   "id": "c5b49198-bc5e-4bf5-b14a-1332c7ac96f2",
   "metadata": {},
   "outputs": [
    {
     "data": {
      "text/plain": [
       "(1, 30)"
      ]
     },
     "execution_count": 112,
     "metadata": {},
     "output_type": "execute_result"
    }
   ],
   "source": [
    "arrrn.shape"
   ]
  },
  {
   "cell_type": "code",
   "execution_count": null,
   "id": "cbbc85f2-bf30-456b-9f1c-e7f5894cede2",
   "metadata": {},
   "outputs": [],
   "source": []
  }
 ],
 "metadata": {
  "kernelspec": {
   "display_name": "Python 3 (ipykernel)",
   "language": "python",
   "name": "python3"
  },
  "language_info": {
   "codemirror_mode": {
    "name": "ipython",
    "version": 3
   },
   "file_extension": ".py",
   "mimetype": "text/x-python",
   "name": "python",
   "nbconvert_exporter": "python",
   "pygments_lexer": "ipython3",
   "version": "3.12.7"
  }
 },
 "nbformat": 4,
 "nbformat_minor": 5
}
