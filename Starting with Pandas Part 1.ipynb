{
 "cells": [
  {
   "cell_type": "markdown",
   "id": "4ffb1476-384d-4444-ac9b-d1d0c1eac40a",
   "metadata": {},
   "source": [
    "# Pandas"
   ]
  },
  {
   "cell_type": "markdown",
   "id": "3f40e36c-5d03-43c5-8ff7-7d570cca3f45",
   "metadata": {},
   "source": [
    "* Data analysis library for python\n",
    "  "
   ]
  },
  {
   "cell_type": "markdown",
   "id": "3f01b50a-10de-4430-ae18-b4bf40a4767c",
   "metadata": {},
   "source": [
    "* pandas can not only open the excel sheets but also can read csv files can directyly connected to sql database and can also read the html table for sites directly and much more"
   ]
  },
  {
   "cell_type": "markdown",
   "id": "1c31f5f4-1755-418c-81dc-ca0769d125af",
   "metadata": {},
   "source": [
    "* pandas can be connected to much more larger different types of files that can't be open with excel or other softwares, and edit files in the same formate."
   ]
  },
  {
   "cell_type": "markdown",
   "id": "cbfea3b0-7924-4a95-9ec7-5e5848f3d591",
   "metadata": {},
   "source": [
    "### Series in Pandas"
   ]
  },
  {
   "cell_type": "code",
   "execution_count": 853,
   "id": "c1f9a9f9-7669-4c0c-b812-4452bf6cccf9",
   "metadata": {},
   "outputs": [],
   "source": [
    "import numpy as np"
   ]
  },
  {
   "cell_type": "code",
   "execution_count": 855,
   "id": "37e8590c-b0f8-4c25-a766-2821b67f6b95",
   "metadata": {},
   "outputs": [],
   "source": [
    "import pandas as pd"
   ]
  },
  {
   "cell_type": "code",
   "execution_count": 45,
   "id": "46b205b7-0adb-441f-a498-d799162f9a05",
   "metadata": {},
   "outputs": [],
   "source": [
    "myindex=['USA','China','Pakistan']"
   ]
  },
  {
   "cell_type": "code",
   "execution_count": 47,
   "id": "8baeda85-bd64-4dc2-89b8-acf672aadded",
   "metadata": {},
   "outputs": [
    {
     "data": {
      "text/plain": [
       "['USA', 'China', 'Pakistan']"
      ]
     },
     "execution_count": 47,
     "metadata": {},
     "output_type": "execute_result"
    }
   ],
   "source": [
    "myindex"
   ]
  },
  {
   "cell_type": "code",
   "execution_count": 49,
   "id": "5b86e302-0b44-4395-92cd-59d0941dfc90",
   "metadata": {},
   "outputs": [],
   "source": [
    "mydata=[1776,1948,1947]"
   ]
  },
  {
   "cell_type": "code",
   "execution_count": 51,
   "id": "c17d4903-a63c-4893-a71e-03c0cc6b11a3",
   "metadata": {},
   "outputs": [
    {
     "data": {
      "text/plain": [
       "[1776, 1948, 1947]"
      ]
     },
     "execution_count": 51,
     "metadata": {},
     "output_type": "execute_result"
    }
   ],
   "source": [
    "mydata"
   ]
  },
  {
   "cell_type": "code",
   "execution_count": 66,
   "id": "48996136-6790-41ec-a811-363fc7f12b7d",
   "metadata": {},
   "outputs": [],
   "source": [
    "myser=pd.Series(index= myindex, data=mydata) # this can be written as pd.Series(mydata, myindex) // in correct order"
   ]
  },
  {
   "cell_type": "code",
   "execution_count": 70,
   "id": "970e87fd-6430-46c1-b341-c3f07acded0d",
   "metadata": {},
   "outputs": [
    {
     "data": {
      "text/plain": [
       "USA         1776\n",
       "China       1948\n",
       "Pakistan    1947\n",
       "dtype: int64"
      ]
     },
     "execution_count": 70,
     "metadata": {},
     "output_type": "execute_result"
    }
   ],
   "source": [
    "myser"
   ]
  },
  {
   "cell_type": "code",
   "execution_count": 93,
   "id": "ea6d11b5-4a00-45f5-b6dc-c85b14eed9ab",
   "metadata": {},
   "outputs": [
    {
     "data": {
      "text/plain": [
       "1948"
      ]
     },
     "execution_count": 93,
     "metadata": {},
     "output_type": "execute_result"
    }
   ],
   "source": [
    "myser['China']"
   ]
  },
  {
   "cell_type": "markdown",
   "id": "1367099b-f7ac-41ce-8f88-27e119a10a3b",
   "metadata": {},
   "source": [
    "* series with dictionaries"
   ]
  },
  {
   "cell_type": "code",
   "execution_count": 75,
   "id": "8379c2df-0c35-453c-8953-69d801b3bbc5",
   "metadata": {},
   "outputs": [],
   "source": [
    "ser={'book1':2500,'book2':1700,'book3':3100}"
   ]
  },
  {
   "cell_type": "code",
   "execution_count": 77,
   "id": "268bcc7b-e780-483c-9e14-3184c3a19e66",
   "metadata": {},
   "outputs": [
    {
     "data": {
      "text/plain": [
       "{'book1': 2500, 'book2': 1700, 'book3': 3100}"
      ]
     },
     "execution_count": 77,
     "metadata": {},
     "output_type": "execute_result"
    }
   ],
   "source": [
    "ser"
   ]
  },
  {
   "cell_type": "code",
   "execution_count": 79,
   "id": "fb5c7f67-020a-44bd-aca2-3ac993fddce5",
   "metadata": {},
   "outputs": [],
   "source": [
    "ser=pd.Series(ser)"
   ]
  },
  {
   "cell_type": "code",
   "execution_count": 81,
   "id": "358b4612-91e8-4960-8c38-4635c7a3b78f",
   "metadata": {},
   "outputs": [
    {
     "data": {
      "text/plain": [
       "book1    2500\n",
       "book2    1700\n",
       "book3    3100\n",
       "dtype: int64"
      ]
     },
     "execution_count": 81,
     "metadata": {},
     "output_type": "execute_result"
    }
   ],
   "source": [
    "ser"
   ]
  },
  {
   "cell_type": "code",
   "execution_count": 85,
   "id": "475902c2-775c-477f-9065-d329c5ae4f7c",
   "metadata": {},
   "outputs": [
    {
     "data": {
      "text/plain": [
       "1700"
      ]
     },
     "execution_count": 85,
     "metadata": {},
     "output_type": "execute_result"
    }
   ],
   "source": [
    "ser['book2']"
   ]
  },
  {
   "cell_type": "code",
   "execution_count": 113,
   "id": "f6ed30db-5620-4e7e-8b22-eb1412624d55",
   "metadata": {},
   "outputs": [
    {
     "data": {
      "text/plain": [
       "2500"
      ]
     },
     "execution_count": 113,
     "metadata": {},
     "output_type": "execute_result"
    }
   ],
   "source": [
    "ser.iloc[0]"
   ]
  },
  {
   "cell_type": "markdown",
   "id": "df8979b7-8e82-4502-bc9f-33e99aa358e4",
   "metadata": {},
   "source": [
    "####   ----- part 1 done -----"
   ]
  }
 ],
 "metadata": {
  "kernelspec": {
   "display_name": "Python 3 (ipykernel)",
   "language": "python",
   "name": "python3"
  },
  "language_info": {
   "codemirror_mode": {
    "name": "ipython",
    "version": 3
   },
   "file_extension": ".py",
   "mimetype": "text/x-python",
   "name": "python",
   "nbconvert_exporter": "python",
   "pygments_lexer": "ipython3",
   "version": "3.12.7"
  }
 },
 "nbformat": 4,
 "nbformat_minor": 5
}
