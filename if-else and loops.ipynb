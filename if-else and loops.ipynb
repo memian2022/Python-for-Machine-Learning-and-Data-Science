{
 "cells": [
  {
   "cell_type": "markdown",
   "id": "729dc100-74cc-4265-8e09-3367f7253333",
   "metadata": {},
   "source": [
    "# Pyhton Operators & if-else strucutres and loops"
   ]
  },
  {
   "cell_type": "code",
   "execution_count": 5,
   "id": "2f4c2e61-8103-4a6f-8179-5a65751fa76d",
   "metadata": {},
   "outputs": [
    {
     "name": "stdout",
     "output_type": "stream",
     "text": [
      "True\n"
     ]
    }
   ],
   "source": [
    "print(1<=3)"
   ]
  },
  {
   "cell_type": "markdown",
   "id": "a7b4cd04-d9e1-48eb-8106-c7574b6562ad",
   "metadata": {},
   "source": [
    "* both (and , or) either (& , |) cand be used as and or operators\n",
    "  "
   ]
  },
  {
   "cell_type": "code",
   "execution_count": 17,
   "id": "b1d9941a-673b-4a81-96bf-1273dafe3118",
   "metadata": {},
   "outputs": [
    {
     "data": {
      "text/plain": [
       "True"
      ]
     },
     "execution_count": 17,
     "metadata": {},
     "output_type": "execute_result"
    }
   ],
   "source": [
    " (1==2) or (2==2)"
   ]
  },
  {
   "cell_type": "code",
   "execution_count": 30,
   "id": "16986ca7-2570-45b5-8314-847441148a64",
   "metadata": {},
   "outputs": [],
   "source": [
    "a=3\n",
    "b=6 \n",
    "c=9"
   ]
  },
  {
   "cell_type": "code",
   "execution_count": 32,
   "id": "53675b32-35a4-4ece-b368-f8734ad2af8a",
   "metadata": {},
   "outputs": [
    {
     "name": "stdout",
     "output_type": "stream",
     "text": [
      "3 6 9\n"
     ]
    }
   ],
   "source": [
    "print(a, b, c)"
   ]
  },
  {
   "cell_type": "markdown",
   "id": "8f4d6113-362a-4ff8-8cf7-f785b8435bc0",
   "metadata": {},
   "source": [
    "# if-elif-else"
   ]
  },
  {
   "cell_type": "code",
   "execution_count": 42,
   "id": "ecb09149-75df-41f7-9827-3f1751afae95",
   "metadata": {},
   "outputs": [
    {
     "name": "stdout",
     "output_type": "stream",
     "text": [
      "done\n"
     ]
    }
   ],
   "source": [
    "if a>=b:\n",
    "    print('right')\n",
    "elif a<c:\n",
    "    print('done')\n",
    "else:\n",
    "    print('wrong')"
   ]
  },
  {
   "cell_type": "code",
   "execution_count": 44,
   "id": "f02b47fc-40d2-45db-a8d7-725ecbd431ff",
   "metadata": {},
   "outputs": [],
   "source": [
    "alist=['a', 'b', 'c', 'd']"
   ]
  },
  {
   "cell_type": "markdown",
   "id": "1164b1d2-acbd-4a8b-9eee-9edb607c8311",
   "metadata": {},
   "source": [
    "# for loop"
   ]
  },
  {
   "cell_type": "code",
   "execution_count": 50,
   "id": "3eb303fa-5726-4033-b3d4-1beb052e03fd",
   "metadata": {},
   "outputs": [
    {
     "name": "stdout",
     "output_type": "stream",
     "text": [
      "aa\n",
      "bb\n",
      "cc\n",
      "dd\n"
     ]
    }
   ],
   "source": [
    "for x in alist:\n",
    "    print(x+x)"
   ]
  },
  {
   "cell_type": "markdown",
   "id": "d7cf5280-47e9-439f-b4de-73098a6316d7",
   "metadata": {},
   "source": [
    "# while loop"
   ]
  },
  {
   "cell_type": "code",
   "execution_count": 64,
   "id": "57942bc6-7d4a-4c09-933e-f19144e3cd1d",
   "metadata": {},
   "outputs": [
    {
     "name": "stdout",
     "output_type": "stream",
     "text": [
      "value of i is 1\n",
      "value of i is 2\n",
      "value of i is 3\n",
      "value of i is 4\n"
     ]
    }
   ],
   "source": [
    "i=0\n",
    "while i<4:\n",
    "    i=i+1\n",
    "    print('value of i is {}'.format(i))\n"
   ]
  },
  {
   "cell_type": "markdown",
   "id": "aefd0407-678a-4cb4-a8ed-0873ce86a1a8",
   "metadata": {},
   "source": [
    "#  Range function"
   ]
  },
  {
   "cell_type": "code",
   "execution_count": 66,
   "id": "f16cb501-c8cb-4cc9-bf4f-a99ed0d97156",
   "metadata": {},
   "outputs": [
    {
     "data": {
      "text/plain": [
       "range(0, 5)"
      ]
     },
     "execution_count": 66,
     "metadata": {},
     "output_type": "execute_result"
    }
   ],
   "source": [
    "range(5)"
   ]
  },
  {
   "cell_type": "code",
   "execution_count": 94,
   "id": "a2fc8868-2c42-4caf-b10b-df464e508f53",
   "metadata": {},
   "outputs": [
    {
     "name": "stdout",
     "output_type": "stream",
     "text": [
      "[2, 3, 4]\n"
     ]
    }
   ],
   "source": [
    "mylist=list(range(2,5))\n",
    "print(mylist)"
   ]
  },
  {
   "cell_type": "code",
   "execution_count": 84,
   "id": "94d8fce7-4a28-4763-9dbe-ce03b010d44e",
   "metadata": {},
   "outputs": [
    {
     "name": "stdout",
     "output_type": "stream",
     "text": [
      "5\n",
      "10\n",
      "15\n",
      "20\n"
     ]
    }
   ],
   "source": [
    "for x in range(25):\n",
    "    if x%5==0 and x!=0:\n",
    "        print(x)"
   ]
  },
  {
   "cell_type": "markdown",
   "id": "2a25f8e2-75fe-47a5-a3d9-f742a7deb1f5",
   "metadata": {},
   "source": [
    "# list comprehention\n",
    "a common method to create the a new list in a easy way / by code\n"
   ]
  },
  {
   "cell_type": "code",
   "execution_count": 110,
   "id": "9dc8bd07-128d-4ac3-9cd0-25655c86c81d",
   "metadata": {},
   "outputs": [
    {
     "name": "stdout",
     "output_type": "stream",
     "text": [
      "[1, 4, 9, 16, 25]\n"
     ]
    }
   ],
   "source": [
    "x=[1,2,3,4,5]\n",
    "# mylist=[]\n",
    "# for num in x:\n",
    "#     mylist.append(num**2)\n",
    "# print(mylist)"
   ]
  },
  {
   "cell_type": "code",
   "execution_count": 147,
   "id": "2d14997f-1996-4686-a7f2-4c4ae9f727e2",
   "metadata": {},
   "outputs": [
    {
     "name": "stdout",
     "output_type": "stream",
     "text": [
      "[1, 4, 9, 16, 25]\n"
     ]
    }
   ],
   "source": [
    "\n",
    "mylist=[y**2 for y in x]# ---this is a list by list comprehention---\n",
    "print(mylist)"
   ]
  },
  {
   "cell_type": "markdown",
   "id": "4a88fa77-98da-49ee-a029-bfd02a45aff2",
   "metadata": {},
   "source": [
    "# ---------------  END -------------"
   ]
  }
 ],
 "metadata": {
  "kernelspec": {
   "display_name": "Python 3 (ipykernel)",
   "language": "python",
   "name": "python3"
  },
  "language_info": {
   "codemirror_mode": {
    "name": "ipython",
    "version": 3
   },
   "file_extension": ".py",
   "mimetype": "text/x-python",
   "name": "python",
   "nbconvert_exporter": "python",
   "pygments_lexer": "ipython3",
   "version": "3.12.7"
  }
 },
 "nbformat": 4,
 "nbformat_minor": 5
}
